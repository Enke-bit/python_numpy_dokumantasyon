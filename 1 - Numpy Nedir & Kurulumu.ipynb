{
 "cells": [
  {
   "cell_type": "code",
   "execution_count": 3,
   "id": "1da88789",
   "metadata": {},
   "outputs": [
    {
     "data": {
      "text/plain": [
       "\"\\nNumPy kütüphanesi, Python'da bilimsel hesaplamalar ve veri analizi için geliştirilmiş bir kütüphanedir. İşte NumPy'nin neden ihtiyaç duyulduğu ve ne yaptığına dair temel bilgiler:\\n\\nPerformans ve Hız:\\n\\nNumPy, Python listelerine göre daha hızlı ve verimli bir dizi yapısı olan ndarray (NumPy Array) sunar. Bu, büyük veri setlerinde daha hızlı işlemler gerçekleştirmek için idealdir.\\nDiziler ve Matris İşlemleri:\\n\\nNumPy, çok boyutlu diziler ve matrisler üzerinde hızlı işlemler gerçekleştirmek için optimizasyonlar içerir. Bu özellik, özellikle lineer cebir ve istatistiksel analiz gibi alanlarda çalışanlar için önemlidir.\\nYayınlanabilir İşlemler:\\n\\nNumPy, yayınlanabilir (broadcasting) işlemler sağlayarak, farklı şekillerdeki diziler üzerinde element-wise işlemleri gerçekleştirmeyi kolaylaştırır. Bu, kodun daha okunabilir ve kısa olmasını sağlar.\\nRastgele Sayı Üretimi:\\n\\nNumPy, rastgele sayı üretme işlemlerini içeren bir alt modül olan numpy.random sunar. Bu, simülasyonlar ve istatistiksel çalışmalar için önemlidir.\\nLineer Cebir ve Matematik İşlemleri:\\n\\nNumPy, lineer cebir işlemleri, matematiksel fonksiyonlar ve trigonometrik işlemler gibi geniş bir matematik işlevselliği sağlar.\\n\""
      ]
     },
     "execution_count": 3,
     "metadata": {},
     "output_type": "execute_result"
    }
   ],
   "source": [
    "# numpy kütüpanesi hangi ihtiyaca yönelik geliştiriliş ve ne yapmaktadır kısaca bakalım.\n",
    "\n",
    "\"\"\"\n",
    "NumPy kütüphanesi, Python'da bilimsel hesaplamalar ve veri analizi için geliştirilmiş bir kütüphanedir. İşte NumPy'nin neden ihtiyaç duyulduğu ve ne yaptığına dair temel bilgiler:\n",
    "\n",
    "Performans ve Hız:\n",
    "\n",
    "NumPy, Python listelerine göre daha hızlı ve verimli bir dizi yapısı olan ndarray (NumPy Array) sunar. Bu, büyük veri setlerinde daha hızlı işlemler gerçekleştirmek için idealdir.\n",
    "Diziler ve Matris İşlemleri:\n",
    "\n",
    "NumPy, çok boyutlu diziler ve matrisler üzerinde hızlı işlemler gerçekleştirmek için optimizasyonlar içerir. Bu özellik, özellikle lineer cebir ve istatistiksel analiz gibi alanlarda çalışanlar için önemlidir.\n",
    "Yayınlanabilir İşlemler:\n",
    "\n",
    "NumPy, yayınlanabilir (broadcasting) işlemler sağlayarak, farklı şekillerdeki diziler üzerinde element-wise işlemleri gerçekleştirmeyi kolaylaştırır. Bu, kodun daha okunabilir ve kısa olmasını sağlar.\n",
    "Rastgele Sayı Üretimi:\n",
    "\n",
    "NumPy, rastgele sayı üretme işlemlerini içeren bir alt modül olan numpy.random sunar. Bu, simülasyonlar ve istatistiksel çalışmalar için önemlidir.\n",
    "Lineer Cebir ve Matematik İşlemleri:\n",
    "\n",
    "NumPy, lineer cebir işlemleri, matematiksel fonksiyonlar ve trigonometrik işlemler gibi geniş bir matematik işlevselliği sağlar.\n",
    "\"\"\""
   ]
  },
  {
   "cell_type": "code",
   "execution_count": 1,
   "id": "5bef43b0",
   "metadata": {},
   "outputs": [],
   "source": [
    "# Temaelde yaptığım numPy kütüpanesini çağırmak ve bu as ile np kısalymasını tanımlamak.\n",
    "\n",
    "import numpy as np"
   ]
  },
  {
   "cell_type": "code",
   "execution_count": 2,
   "id": "317959d6",
   "metadata": {},
   "outputs": [
    {
     "data": {
      "text/plain": [
       "array([1, 2, 3, 4, 5, 6])"
      ]
     },
     "execution_count": 2,
     "metadata": {},
     "output_type": "execute_result"
    }
   ],
   "source": [
    "# Ekrana herhangi bir çıktı almak ise rastgele bir kod yazıyorum.\n",
    "\n",
    "np.array([1,2,3,4,5,6])"
   ]
  }
 ],
 "metadata": {
  "kernelspec": {
   "display_name": "Python 3 (ipykernel)",
   "language": "python",
   "name": "python3"
  },
  "language_info": {
   "codemirror_mode": {
    "name": "ipython",
    "version": 3
   },
   "file_extension": ".py",
   "mimetype": "text/x-python",
   "name": "python",
   "nbconvert_exporter": "python",
   "pygments_lexer": "ipython3",
   "version": "3.11.5"
  }
 },
 "nbformat": 4,
 "nbformat_minor": 5
}
