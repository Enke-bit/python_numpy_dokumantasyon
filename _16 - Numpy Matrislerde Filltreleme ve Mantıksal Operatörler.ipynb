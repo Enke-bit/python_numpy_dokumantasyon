{
 "cells": [
  {
   "cell_type": "code",
   "execution_count": 1,
   "id": "abb3960f",
   "metadata": {},
   "outputs": [],
   "source": [
    "import numpy as np"
   ]
  },
  {
   "cell_type": "code",
   "execution_count": 2,
   "id": "d25b07f7",
   "metadata": {},
   "outputs": [],
   "source": [
    "matris = np.random.randint(0,10,(5,5))"
   ]
  },
  {
   "cell_type": "code",
   "execution_count": 3,
   "id": "743399c8",
   "metadata": {},
   "outputs": [
    {
     "data": {
      "text/plain": [
       "array([[0, 3, 8, 1, 8],\n",
       "       [8, 6, 6, 1, 5],\n",
       "       [4, 5, 5, 7, 2],\n",
       "       [6, 0, 1, 4, 5],\n",
       "       [0, 3, 0, 5, 6]])"
      ]
     },
     "execution_count": 3,
     "metadata": {},
     "output_type": "execute_result"
    }
   ],
   "source": [
    "matris"
   ]
  },
  {
   "cell_type": "code",
   "execution_count": 4,
   "id": "cdbdefeb",
   "metadata": {},
   "outputs": [
    {
     "data": {
      "text/plain": [
       "array([[False, False,  True, False,  True],\n",
       "       [ True,  True,  True, False, False],\n",
       "       [False, False, False,  True, False],\n",
       "       [ True, False, False, False, False],\n",
       "       [False, False, False, False,  True]])"
      ]
     },
     "execution_count": 4,
     "metadata": {},
     "output_type": "execute_result"
    }
   ],
   "source": [
    "# burada mantıksal bir işlem yaptırmak istiyorum ve 5'den büyük olanları bana true yada false döndürmesini istiyorum.\n",
    "\n",
    "matris>5"
   ]
  },
  {
   "cell_type": "code",
   "execution_count": 5,
   "id": "745dc36e",
   "metadata": {},
   "outputs": [
    {
     "data": {
      "text/plain": [
       "array([8, 8, 8, 6, 6, 7, 6, 6])"
      ]
     },
     "execution_count": 5,
     "metadata": {},
     "output_type": "execute_result"
    }
   ],
   "source": [
    "# Büyük olan değerleri bana geritmesini istiyorsam eğer.\n",
    "\n",
    "matris[matris>5]"
   ]
  },
  {
   "cell_type": "code",
   "execution_count": 6,
   "id": "75f15c9e",
   "metadata": {},
   "outputs": [
    {
     "data": {
      "text/plain": [
       "array([0, 3, 1, 1, 4, 2, 0, 1, 4, 0, 3, 0])"
      ]
     },
     "execution_count": 6,
     "metadata": {},
     "output_type": "execute_result"
    }
   ],
   "source": [
    "matris[matris<5]"
   ]
  },
  {
   "cell_type": "code",
   "execution_count": 7,
   "id": "d3146160",
   "metadata": {},
   "outputs": [
    {
     "data": {
      "text/plain": [
       "array([8, 8, 8, 6, 6, 5, 5, 5, 7, 6, 5, 5, 6])"
      ]
     },
     "execution_count": 7,
     "metadata": {},
     "output_type": "execute_result"
    }
   ],
   "source": [
    "matris[matris>=5]"
   ]
  },
  {
   "cell_type": "code",
   "execution_count": 8,
   "id": "0e9bdd82",
   "metadata": {},
   "outputs": [
    {
     "data": {
      "text/plain": [
       "array([5, 5, 5, 5, 5])"
      ]
     },
     "execution_count": 8,
     "metadata": {},
     "output_type": "execute_result"
    }
   ],
   "source": [
    "matris[matris==5]"
   ]
  },
  {
   "cell_type": "code",
   "execution_count": 9,
   "id": "47203ed0",
   "metadata": {},
   "outputs": [
    {
     "data": {
      "text/plain": [
       "5"
      ]
     },
     "execution_count": 9,
     "metadata": {},
     "output_type": "execute_result"
    }
   ],
   "source": [
    "# şimdi bu değler kaç tane ona bakalım.\n",
    "\n",
    "matris[matris==5].size"
   ]
  },
  {
   "cell_type": "code",
   "execution_count": 10,
   "id": "f5ed7c04",
   "metadata": {},
   "outputs": [
    {
     "data": {
      "text/plain": [
       "array([0, 3, 8, 1, 8, 8, 6, 6, 1, 5, 4, 5, 5, 2, 6, 0, 1, 4, 5, 0, 3, 0,\n",
       "       5, 6])"
      ]
     },
     "execution_count": 10,
     "metadata": {},
     "output_type": "execute_result"
    }
   ],
   "source": [
    "# Şimdi 7'ye eşit olmayan değerlere bakalım.\n",
    "\n",
    "matris[matris!=7]"
   ]
  },
  {
   "cell_type": "code",
   "execution_count": 11,
   "id": "68d6c1e0",
   "metadata": {},
   "outputs": [
    {
     "data": {
      "text/plain": [
       "24"
      ]
     },
     "execution_count": 11,
     "metadata": {},
     "output_type": "execute_result"
    }
   ],
   "source": [
    "# Yukardaki değerler kaç tane.\n",
    "\n",
    "matris[matris!=7].size"
   ]
  },
  {
   "cell_type": "code",
   "execution_count": 12,
   "id": "3bf954a1",
   "metadata": {},
   "outputs": [
    {
     "data": {
      "text/plain": [
       "array([[ True, False,  True, False,  True],\n",
       "       [ True,  True,  True, False, False],\n",
       "       [ True, False, False, False,  True],\n",
       "       [ True,  True, False,  True, False],\n",
       "       [ True, False,  True, False,  True]])"
      ]
     },
     "execution_count": 12,
     "metadata": {},
     "output_type": "execute_result"
    }
   ],
   "source": [
    "# Şimdi birbirini tekrar eden sayı varmı ona bakalım.\n",
    "\n",
    "matris%2==0"
   ]
  },
  {
   "cell_type": "code",
   "execution_count": 13,
   "id": "0df0cfa5",
   "metadata": {},
   "outputs": [
    {
     "data": {
      "text/plain": [
       "array([0, 8, 8, 8, 6, 6, 4, 2, 6, 0, 4, 0, 0, 6])"
      ]
     },
     "execution_count": 13,
     "metadata": {},
     "output_type": "execute_result"
    }
   ],
   "source": [
    "# Peki bu tekrar eden sayılar hangileir.\n",
    "\n",
    "matris[matris%2==0]"
   ]
  },
  {
   "cell_type": "code",
   "execution_count": 21,
   "id": "4de4a306",
   "metadata": {},
   "outputs": [],
   "source": [
    "# Şimdi ben sıfıra eşit olmayan çift sayıları getir diyorum.\n",
    "\n",
    "sifir = matris!=0\n",
    "cift = matris%2==0\n",
    "bir = matris == 1"
   ]
  },
  {
   "cell_type": "code",
   "execution_count": 19,
   "id": "bea76ac4",
   "metadata": {},
   "outputs": [
    {
     "data": {
      "text/plain": [
       "array([8, 8, 8, 6, 6, 4, 2, 6, 4, 6])"
      ]
     },
     "execution_count": 19,
     "metadata": {},
     "output_type": "execute_result"
    }
   ],
   "source": [
    "matris[cift & sifir]"
   ]
  },
  {
   "cell_type": "code",
   "execution_count": 22,
   "id": "b82771e0",
   "metadata": {},
   "outputs": [
    {
     "data": {
      "text/plain": [
       "array([0, 8, 1, 8, 8, 6, 6, 1, 4, 2, 6, 0, 1, 4, 0, 0, 6])"
      ]
     },
     "execution_count": 22,
     "metadata": {},
     "output_type": "execute_result"
    }
   ],
   "source": [
    "# Şimdi ise çift veya 1 olan sayıları bul\n",
    "\n",
    "matris[cift | bir]"
   ]
  },
  {
   "cell_type": "code",
   "execution_count": 23,
   "id": "4ca98f8c",
   "metadata": {},
   "outputs": [
    {
     "data": {
      "text/plain": [
       "array([8, 1, 8, 8, 6, 6, 1, 4, 2, 6, 1, 4, 6])"
      ]
     },
     "execution_count": 23,
     "metadata": {},
     "output_type": "execute_result"
    }
   ],
   "source": [
    "# Şimdi ben çift olacak ama sıfır olmayacak veya 1 olacak desem şu şekil olur.\n",
    "\n",
    "matris[(cift & sifir) | bir]"
   ]
  },
  {
   "cell_type": "code",
   "execution_count": 28,
   "id": "4670838e",
   "metadata": {},
   "outputs": [],
   "source": [
    "# Ben bu koşulu başka bir matris yapısı içinde kullanabilirim.\n",
    "\n",
    "matris2 = np.full((5,5),5)"
   ]
  },
  {
   "cell_type": "code",
   "execution_count": 30,
   "id": "f119db4f",
   "metadata": {},
   "outputs": [
    {
     "data": {
      "text/plain": [
       "array([[5, 5, 5, 5, 5],\n",
       "       [5, 5, 5, 5, 5],\n",
       "       [5, 5, 5, 5, 5],\n",
       "       [5, 5, 5, 5, 5],\n",
       "       [5, 5, 5, 5, 5]])"
      ]
     },
     "execution_count": 30,
     "metadata": {},
     "output_type": "execute_result"
    }
   ],
   "source": [
    "matris2"
   ]
  },
  {
   "cell_type": "code",
   "execution_count": 31,
   "id": "70646a08",
   "metadata": {},
   "outputs": [
    {
     "data": {
      "text/plain": [
       "array([5, 5, 5, 5, 5, 5, 5, 5, 5, 5, 5, 5, 5])"
      ]
     },
     "execution_count": 31,
     "metadata": {},
     "output_type": "execute_result"
    }
   ],
   "source": [
    "matris2[(cift & sifir) | bir]"
   ]
  }
 ],
 "metadata": {
  "kernelspec": {
   "display_name": "Python 3 (ipykernel)",
   "language": "python",
   "name": "python3"
  },
  "language_info": {
   "codemirror_mode": {
    "name": "ipython",
    "version": 3
   },
   "file_extension": ".py",
   "mimetype": "text/x-python",
   "name": "python",
   "nbconvert_exporter": "python",
   "pygments_lexer": "ipython3",
   "version": "3.11.5"
  }
 },
 "nbformat": 4,
 "nbformat_minor": 5
}
