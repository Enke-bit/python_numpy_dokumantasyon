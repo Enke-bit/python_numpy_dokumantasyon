{
 "cells": [
  {
   "cell_type": "code",
   "execution_count": null,
   "id": "459e783b",
   "metadata": {},
   "outputs": [],
   "source": [
    "# numpy kütüpanesinin kendine ait veri tipi vardır bu veri tipleride aslında pythondan devşirilmiş veri tipleridir."
   ]
  },
  {
   "cell_type": "code",
   "execution_count": 2,
   "id": "afd626cd",
   "metadata": {},
   "outputs": [],
   "source": [
    "import numpy as np"
   ]
  },
  {
   "cell_type": "code",
   "execution_count": 3,
   "id": "b016b32b",
   "metadata": {},
   "outputs": [],
   "source": [
    "# Bakın burada aynı veri tipinde girdim.\n",
    "\n",
    "sayilar = np.array([1,2,3,4,5,6,7])"
   ]
  },
  {
   "cell_type": "code",
   "execution_count": 4,
   "id": "c1e2b3ca",
   "metadata": {},
   "outputs": [
    {
     "data": {
      "text/plain": [
       "dtype('int32')"
      ]
     },
     "execution_count": 4,
     "metadata": {},
     "output_type": "execute_result"
    }
   ],
   "source": [
    "# Aynı veri tipinde tanımlamasını yapınca nasıl olduğuna bakalım.\n",
    "\n",
    "sayilar.dtype"
   ]
  },
  {
   "cell_type": "code",
   "execution_count": 5,
   "id": "9d0e3bec",
   "metadata": {},
   "outputs": [],
   "source": [
    "# Girdiğim bir değeri 5.0 şeklinde girince ise bu şekilde tanımlama yapıyor.\n",
    "\n",
    "sayilar1 = np.array([1,2,3,4,5.0,6,7])"
   ]
  },
  {
   "cell_type": "code",
   "execution_count": 6,
   "id": "47e3c402",
   "metadata": {},
   "outputs": [
    {
     "data": {
      "text/plain": [
       "dtype('float64')"
      ]
     },
     "execution_count": 6,
     "metadata": {},
     "output_type": "execute_result"
    }
   ],
   "source": [
    "sayilar1.dtype"
   ]
  },
  {
   "cell_type": "code",
   "execution_count": 7,
   "id": "4d964020",
   "metadata": {},
   "outputs": [],
   "source": [
    "# içeri string türünde bir değer tanımlaması yaparsan ise.\n",
    "\n",
    "sayilar2 = np.array([1,2,3,4,5,6,7,\"Hassan\"])"
   ]
  },
  {
   "cell_type": "code",
   "execution_count": 8,
   "id": "d57d4c8a",
   "metadata": {},
   "outputs": [
    {
     "data": {
      "text/plain": [
       "dtype('<U11')"
      ]
     },
     "execution_count": 8,
     "metadata": {},
     "output_type": "execute_result"
    }
   ],
   "source": [
    "sayilar2.dtype"
   ]
  },
  {
   "cell_type": "code",
   "execution_count": null,
   "id": "b9e4e11e",
   "metadata": {},
   "outputs": [],
   "source": [
    "# Bu veri yapılarında integer olarak tanımlanan ve int32 üründeki veri tipi performansı en yüksek veri tipi olrak tanımlayabiliriz.\n"
   ]
  },
  {
   "cell_type": "code",
   "execution_count": 9,
   "id": "1ff4a7e8",
   "metadata": {},
   "outputs": [
    {
     "data": {
      "text/plain": [
       "dtype('int64')"
      ]
     },
     "execution_count": 9,
     "metadata": {},
     "output_type": "execute_result"
    }
   ],
   "source": [
    "# Var olan verileri tekrardan istediğim formata çevirebilirim.\n",
    "# Float olan veri yapısındaki verileri integer yapısına çevirdim.\n",
    "# Ama daha düşük bitte yapılan tanımlalama memory'de daha az yer kaplayarak aslında burda daha performanslı çalışmasını sağlayabilir.\n",
    "\n",
    "sayilar1 = sayilar1.astype(\"int64\")\n",
    "sayilar1.dtype\n"
   ]
  },
  {
   "cell_type": "code",
   "execution_count": 10,
   "id": "7d7e722f",
   "metadata": {},
   "outputs": [
    {
     "data": {
      "text/plain": [
       "dtype('int8')"
      ]
     },
     "execution_count": 10,
     "metadata": {},
     "output_type": "execute_result"
    }
   ],
   "source": [
    "# Ben bu veri türünde yapabileceğim değişikliği değerleri tanımlarkende yapa bilirim.\n",
    "\n",
    "diziler = np.array([1,2,3,4,5,6], dtype=\"int8\")\n",
    "diziler.dtype"
   ]
  },
  {
   "cell_type": "code",
   "execution_count": 11,
   "id": "e409ed9b",
   "metadata": {},
   "outputs": [
    {
     "data": {
      "text/plain": [
       "dtype('<U10')"
      ]
     },
     "execution_count": 11,
     "metadata": {},
     "output_type": "execute_result"
    }
   ],
   "source": [
    "# Ben obje olarak tanımlana veya bu tanımlamalardan sonra değişkenlerin sıfatlarınıda değiştirebilirim.\n",
    "\n",
    "tarih = np.array([\"2024-01-01\"])\n",
    "tarih.dtype"
   ]
  },
  {
   "cell_type": "code",
   "execution_count": 13,
   "id": "ebb963d3",
   "metadata": {},
   "outputs": [
    {
     "data": {
      "text/plain": [
       "dtype('<M8[D]')"
      ]
     },
     "execution_count": 13,
     "metadata": {},
     "output_type": "execute_result"
    }
   ],
   "source": [
    "# Yukarda tanımlanan obje tanımlamasını tarihsel bir veri tanımlamasına çevirme işlemini yapıyorum.\n",
    "\n",
    "tarih = tarih.astype(\"datetime64\")\n",
    "tarih.dtype"
   ]
  }
 ],
 "metadata": {
  "kernelspec": {
   "display_name": "Python 3 (ipykernel)",
   "language": "python",
   "name": "python3"
  },
  "language_info": {
   "codemirror_mode": {
    "name": "ipython",
    "version": 3
   },
   "file_extension": ".py",
   "mimetype": "text/x-python",
   "name": "python",
   "nbconvert_exporter": "python",
   "pygments_lexer": "ipython3",
   "version": "3.11.5"
  }
 },
 "nbformat": 4,
 "nbformat_minor": 5
}
