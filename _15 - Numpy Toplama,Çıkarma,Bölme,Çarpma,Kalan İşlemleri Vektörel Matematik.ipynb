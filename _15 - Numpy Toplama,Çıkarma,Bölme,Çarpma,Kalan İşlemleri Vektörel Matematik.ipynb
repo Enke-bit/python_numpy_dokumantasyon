{
 "cells": [
  {
   "cell_type": "code",
   "execution_count": 1,
   "id": "560d64e5",
   "metadata": {},
   "outputs": [],
   "source": [
    "import numpy as np"
   ]
  },
  {
   "cell_type": "code",
   "execution_count": 5,
   "id": "5eda3bbc",
   "metadata": {},
   "outputs": [],
   "source": [
    "m1 = np.ones((5,5))\n",
    "m2 = np.full((5,5),12)"
   ]
  },
  {
   "cell_type": "code",
   "execution_count": 3,
   "id": "cb0a168c",
   "metadata": {},
   "outputs": [
    {
     "data": {
      "text/plain": [
       "array([[1., 1., 1., 1., 1.],\n",
       "       [1., 1., 1., 1., 1.],\n",
       "       [1., 1., 1., 1., 1.],\n",
       "       [1., 1., 1., 1., 1.],\n",
       "       [1., 1., 1., 1., 1.]])"
      ]
     },
     "execution_count": 3,
     "metadata": {},
     "output_type": "execute_result"
    }
   ],
   "source": [
    "m1\n",
    "\n",
    "# Ben \"ones\" ile oluşturduğum zaman float yapıda değer oluşur iken."
   ]
  },
  {
   "cell_type": "code",
   "execution_count": 6,
   "id": "e01ba251",
   "metadata": {},
   "outputs": [
    {
     "data": {
      "text/plain": [
       "array([[12, 12, 12, 12, 12],\n",
       "       [12, 12, 12, 12, 12],\n",
       "       [12, 12, 12, 12, 12],\n",
       "       [12, 12, 12, 12, 12],\n",
       "       [12, 12, 12, 12, 12]])"
      ]
     },
     "execution_count": 6,
     "metadata": {},
     "output_type": "execute_result"
    }
   ],
   "source": [
    "m2\n",
    "\n",
    "# ben \"full\" ile değişken oluşturduğum zaman ise değer integer oluşuyor."
   ]
  },
  {
   "cell_type": "code",
   "execution_count": 8,
   "id": "71575810",
   "metadata": {},
   "outputs": [
    {
     "data": {
      "text/plain": [
       "array([[1, 1, 1, 1, 1],\n",
       "       [1, 1, 1, 1, 1],\n",
       "       [1, 1, 1, 1, 1],\n",
       "       [1, 1, 1, 1, 1],\n",
       "       [1, 1, 1, 1, 1]], dtype=int8)"
      ]
     },
     "execution_count": 8,
     "metadata": {},
     "output_type": "execute_result"
    }
   ],
   "source": [
    "# m1 değişkeninin burda yapısını değiştirmek istersem ise.\n",
    "\n",
    "m1 = m1.astype(\"int8\")\n",
    "m1"
   ]
  },
  {
   "cell_type": "code",
   "execution_count": 9,
   "id": "44c3cb23",
   "metadata": {},
   "outputs": [
    {
     "data": {
      "text/plain": [
       "array([[5, 5, 5, 5, 5],\n",
       "       [5, 5, 5, 5, 5],\n",
       "       [5, 5, 5, 5, 5],\n",
       "       [5, 5, 5, 5, 5],\n",
       "       [5, 5, 5, 5, 5]], dtype=int8)"
      ]
     },
     "execution_count": 9,
     "metadata": {},
     "output_type": "execute_result"
    }
   ],
   "source": [
    "# Eğer ben 1'lerden oluşmasını değilde 5'lerden oluşmasını istersem ise.\n",
    "\n",
    "m1*5\n",
    "\n",
    "# Bu çarpma işleminde vektörel bir çarpma yapıyor aynı anda bir çok veriyi çarpıyor."
   ]
  },
  {
   "cell_type": "code",
   "execution_count": 11,
   "id": "a5141a40",
   "metadata": {},
   "outputs": [
    {
     "data": {
      "text/plain": [
       "array([[15, 15, 15, 15, 15],\n",
       "       [15, 15, 15, 15, 15],\n",
       "       [15, 15, 15, 15, 15],\n",
       "       [15, 15, 15, 15, 15],\n",
       "       [15, 15, 15, 15, 15]])"
      ]
     },
     "execution_count": 11,
     "metadata": {},
     "output_type": "execute_result"
    }
   ],
   "source": [
    "# Eğer matriks'de var olan değerleri toplama işlemi yaptırmak istersem ne yapmak zorundayım.\n",
    "\n",
    "m2+3\n",
    "\n",
    "# Şeklinde yaparım."
   ]
  },
  {
   "cell_type": "code",
   "execution_count": 12,
   "id": "1fa067ea",
   "metadata": {},
   "outputs": [
    {
     "data": {
      "text/plain": [
       "array([[13, 13, 13, 13, 13],\n",
       "       [13, 13, 13, 13, 13],\n",
       "       [13, 13, 13, 13, 13],\n",
       "       [13, 13, 13, 13, 13],\n",
       "       [13, 13, 13, 13, 13]])"
      ]
     },
     "execution_count": 12,
     "metadata": {},
     "output_type": "execute_result"
    }
   ],
   "source": [
    "# Peki ben var olan iki matriksi toplayabilirmiyim?\n",
    "\n",
    "m1+m2"
   ]
  },
  {
   "cell_type": "code",
   "execution_count": 13,
   "id": "cb9c760f",
   "metadata": {},
   "outputs": [
    {
     "data": {
      "text/plain": [
       "array([[11, 11, 11, 11, 11],\n",
       "       [11, 11, 11, 11, 11],\n",
       "       [11, 11, 11, 11, 11],\n",
       "       [11, 11, 11, 11, 11],\n",
       "       [11, 11, 11, 11, 11]])"
      ]
     },
     "execution_count": 13,
     "metadata": {},
     "output_type": "execute_result"
    }
   ],
   "source": [
    "m2-m1"
   ]
  },
  {
   "cell_type": "code",
   "execution_count": 14,
   "id": "e5b21eef",
   "metadata": {},
   "outputs": [
    {
     "data": {
      "text/plain": [
       "array([[2.4, 2.4, 2.4, 2.4, 2.4],\n",
       "       [2.4, 2.4, 2.4, 2.4, 2.4],\n",
       "       [2.4, 2.4, 2.4, 2.4, 2.4],\n",
       "       [2.4, 2.4, 2.4, 2.4, 2.4],\n",
       "       [2.4, 2.4, 2.4, 2.4, 2.4]])"
      ]
     },
     "execution_count": 14,
     "metadata": {},
     "output_type": "execute_result"
    }
   ],
   "source": [
    "# Matriks'lerde bölme işlemide yapabilirim.\n",
    "\n",
    "m2/5"
   ]
  },
  {
   "cell_type": "code",
   "execution_count": 15,
   "id": "da5ef198",
   "metadata": {},
   "outputs": [
    {
     "data": {
      "text/plain": [
       "array([[2, 2, 2, 2, 2],\n",
       "       [2, 2, 2, 2, 2],\n",
       "       [2, 2, 2, 2, 2],\n",
       "       [2, 2, 2, 2, 2],\n",
       "       [2, 2, 2, 2, 2]], dtype=int32)"
      ]
     },
     "execution_count": 15,
     "metadata": {},
     "output_type": "execute_result"
    }
   ],
   "source": [
    "# Eğer matriksi tam sayı olark yazdırmak istersem.\n",
    "\n",
    "m2//5"
   ]
  },
  {
   "cell_type": "code",
   "execution_count": 16,
   "id": "0467d2c1",
   "metadata": {},
   "outputs": [
    {
     "data": {
      "text/plain": [
       "array([[2, 2, 2, 2, 2],\n",
       "       [2, 2, 2, 2, 2],\n",
       "       [2, 2, 2, 2, 2],\n",
       "       [2, 2, 2, 2, 2],\n",
       "       [2, 2, 2, 2, 2]], dtype=int32)"
      ]
     },
     "execution_count": 16,
     "metadata": {},
     "output_type": "execute_result"
    }
   ],
   "source": [
    "# Eğer mod hesaplaması yaptırmak istersem yapmam gereken şu olmalıdır.\n",
    "\n",
    "m2%5"
   ]
  },
  {
   "cell_type": "code",
   "execution_count": 18,
   "id": "aeba0640",
   "metadata": {},
   "outputs": [
    {
     "data": {
      "text/plain": [
       "array([[3, 3, 3, 3, 3, 3],\n",
       "       [3, 3, 3, 3, 3, 3],\n",
       "       [3, 3, 3, 3, 3, 3],\n",
       "       [3, 3, 3, 3, 3, 3],\n",
       "       [3, 3, 3, 3, 3, 3]])"
      ]
     },
     "execution_count": 18,
     "metadata": {},
     "output_type": "execute_result"
    }
   ],
   "source": [
    "m3 = np.full((5,6),3)\n",
    "m3"
   ]
  },
  {
   "cell_type": "code",
   "execution_count": 19,
   "id": "38ea3a38",
   "metadata": {},
   "outputs": [
    {
     "data": {
      "text/plain": [
       "(5, 6)"
      ]
     },
     "execution_count": 19,
     "metadata": {},
     "output_type": "execute_result"
    }
   ],
   "source": [
    "m3.shape"
   ]
  },
  {
   "cell_type": "code",
   "execution_count": 21,
   "id": "03a958e1",
   "metadata": {},
   "outputs": [
    {
     "data": {
      "text/plain": [
       "(5, 5)"
      ]
     },
     "execution_count": 21,
     "metadata": {},
     "output_type": "execute_result"
    }
   ],
   "source": [
    "m1.shape"
   ]
  },
  {
   "cell_type": "code",
   "execution_count": 22,
   "id": "86d30a57",
   "metadata": {},
   "outputs": [
    {
     "ename": "ValueError",
     "evalue": "operands could not be broadcast together with shapes (5,6) (5,5) ",
     "output_type": "error",
     "traceback": [
      "\u001b[1;31m---------------------------------------------------------------------------\u001b[0m",
      "\u001b[1;31mValueError\u001b[0m                                Traceback (most recent call last)",
      "Cell \u001b[1;32mIn[22], line 3\u001b[0m\n\u001b[0;32m      1\u001b[0m \u001b[38;5;66;03m# Yukarda gördünüz yapıları farklı iki matriks toplayabilirmi?\u001b[39;00m\n\u001b[1;32m----> 3\u001b[0m m3\u001b[38;5;241m+\u001b[39mm1\n",
      "\u001b[1;31mValueError\u001b[0m: operands could not be broadcast together with shapes (5,6) (5,5) "
     ]
    }
   ],
   "source": [
    "# Yukarda gördünüz yapıları farklı iki matriks toplayabilirmi?\n",
    "\n",
    "m3+m1\n",
    "\n",
    "# hayıt hata veriri."
   ]
  },
  {
   "cell_type": "code",
   "execution_count": 26,
   "id": "ed9b7466",
   "metadata": {},
   "outputs": [
    {
     "data": {
      "text/plain": [
       "array([[3, 3, 3, 3, 3],\n",
       "       [3, 3, 3, 3, 3],\n",
       "       [3, 3, 3, 3, 3],\n",
       "       [3, 3, 3, 3, 3],\n",
       "       [3, 3, 3, 3, 3]])"
      ]
     },
     "execution_count": 26,
     "metadata": {},
     "output_type": "execute_result"
    }
   ],
   "source": [
    "# Peki bunların var olan durumuna göre toplamasını sağlarsam nasıl olmalıdır.\n",
    "\n",
    "# Öncelikle fazla karakteri olan değeri bir alalım be bunu az karakteri olan değer kadar almasını istiyelim.\n",
    "\n",
    "m3_1 = m3.reshape(30)[:25].reshape(5,5)\n",
    "# İlk 25 karakterini almasını sağladım ve sonra bunu 5x5 lik matrikse cevirdim.\n",
    "m3_1"
   ]
  },
  {
   "cell_type": "code",
   "execution_count": 27,
   "id": "812c1a37",
   "metadata": {},
   "outputs": [
    {
     "data": {
      "text/plain": [
       "array([[4, 4, 4, 4, 4],\n",
       "       [4, 4, 4, 4, 4],\n",
       "       [4, 4, 4, 4, 4],\n",
       "       [4, 4, 4, 4, 4],\n",
       "       [4, 4, 4, 4, 4]])"
      ]
     },
     "execution_count": 27,
     "metadata": {},
     "output_type": "execute_result"
    }
   ],
   "source": [
    "# Artık toplama yaptırabilirim.\n",
    "\n",
    "m3_1+m1"
   ]
  },
  {
   "cell_type": "code",
   "execution_count": 28,
   "id": "9d303fbc",
   "metadata": {},
   "outputs": [
    {
     "data": {
      "text/plain": [
       "array([3, 3, 3, 3, 3], dtype=int8)"
      ]
     },
     "execution_count": 28,
     "metadata": {},
     "output_type": "execute_result"
    }
   ],
   "source": [
    "# m1 değişkenimin ilk satırını 3 ile çarpasam.\n",
    "\n",
    "m1[0]*3"
   ]
  },
  {
   "cell_type": "code",
   "execution_count": 30,
   "id": "cabc8e58",
   "metadata": {},
   "outputs": [
    {
     "data": {
      "text/plain": [
       "array([[9, 9, 9, 9, 9],\n",
       "       [1, 1, 1, 1, 1],\n",
       "       [1, 1, 1, 1, 1],\n",
       "       [1, 1, 1, 1, 1],\n",
       "       [1, 1, 1, 1, 1]], dtype=int8)"
      ]
     },
     "execution_count": 30,
     "metadata": {},
     "output_type": "execute_result"
    }
   ],
   "source": [
    "# Yukardaki işlemi eğer m1 değişkeninin içine kaydetmek istersem yapmam gereken şu olmalıdır.\n",
    "\n",
    "m1[0] = m1[0]*3\n",
    "m1"
   ]
  },
  {
   "cell_type": "code",
   "execution_count": null,
   "id": "22ae3962",
   "metadata": {},
   "outputs": [],
   "source": [
    "# Ben eğer yukardaki gibi 5x5 lik bir matriks ile 5 değeri olan verktorel bir kavramla çarpabilirim bunu o satırlarla sırayla çarparak olur."
   ]
  },
  {
   "cell_type": "code",
   "execution_count": 31,
   "id": "895ebc0c",
   "metadata": {},
   "outputs": [
    {
     "data": {
      "text/plain": [
       "array([[9, 9, 9, 9, 9],\n",
       "       [1, 1, 1, 1, 1],\n",
       "       [1, 1, 1, 1, 1],\n",
       "       [1, 1, 1, 1, 1],\n",
       "       [1, 1, 1, 1, 1]], dtype=int8)"
      ]
     },
     "execution_count": 31,
     "metadata": {},
     "output_type": "execute_result"
    }
   ],
   "source": [
    "m1"
   ]
  },
  {
   "cell_type": "code",
   "execution_count": 33,
   "id": "90f269d7",
   "metadata": {},
   "outputs": [
    {
     "data": {
      "text/plain": [
       "array([[0],\n",
       "       [1],\n",
       "       [2],\n",
       "       [3],\n",
       "       [4]])"
      ]
     },
     "execution_count": 33,
     "metadata": {},
     "output_type": "execute_result"
    }
   ],
   "source": [
    "m4 = np.arange(5).reshape((5,1))\n",
    "m4"
   ]
  },
  {
   "cell_type": "code",
   "execution_count": 34,
   "id": "d406a43f",
   "metadata": {},
   "outputs": [
    {
     "data": {
      "text/plain": [
       "array([[0, 0, 0, 0, 0],\n",
       "       [1, 1, 1, 1, 1],\n",
       "       [2, 2, 2, 2, 2],\n",
       "       [3, 3, 3, 3, 3],\n",
       "       [4, 4, 4, 4, 4]])"
      ]
     },
     "execution_count": 34,
     "metadata": {},
     "output_type": "execute_result"
    }
   ],
   "source": [
    "# şimidi 5x5 lik bir matriks ile 5 değeri olan vektörel bir kavramı çarpaçağım.\n",
    "\n",
    "m1*m4"
   ]
  },
  {
   "cell_type": "code",
   "execution_count": 35,
   "id": "4ea53ed0",
   "metadata": {},
   "outputs": [
    {
     "data": {
      "text/plain": [
       "array([[9, 9, 9, 9, 9],\n",
       "       [2, 2, 2, 2, 2],\n",
       "       [3, 3, 3, 3, 3],\n",
       "       [4, 4, 4, 4, 4],\n",
       "       [5, 5, 5, 5, 5]])"
      ]
     },
     "execution_count": 35,
     "metadata": {},
     "output_type": "execute_result"
    }
   ],
   "source": [
    "# Dikey boyutta uyuştuğu için toplamada yapabilirim.\n",
    "\n",
    "m1+m4"
   ]
  },
  {
   "cell_type": "code",
   "execution_count": 36,
   "id": "d0ff9caf",
   "metadata": {},
   "outputs": [
    {
     "data": {
      "text/plain": [
       "array([[0., 0., 0., 0., 0.],\n",
       "       [1., 1., 1., 1., 1.],\n",
       "       [2., 2., 2., 2., 2.],\n",
       "       [3., 3., 3., 3., 3.],\n",
       "       [4., 4., 4., 4., 4.]])"
      ]
     },
     "execution_count": 36,
     "metadata": {},
     "output_type": "execute_result"
    }
   ],
   "source": [
    "# Yine dikeydeki bnzerlikten yararlandım ve bunların bölünmesini sağladım.\n",
    "\n",
    "m4/m1"
   ]
  },
  {
   "cell_type": "code",
   "execution_count": 38,
   "id": "8410baae",
   "metadata": {},
   "outputs": [
    {
     "data": {
      "text/plain": [
       "array([[81,  9,  9,  9,  9],\n",
       "       [ 9,  1,  1,  1,  1],\n",
       "       [ 9,  1,  1,  1,  1],\n",
       "       [ 9,  1,  1,  1,  1],\n",
       "       [ 9,  1,  1,  1,  1]], dtype=int8)"
      ]
     },
     "execution_count": 38,
     "metadata": {},
     "output_type": "execute_result"
    }
   ],
   "source": [
    "# Ben istersem 5x5 lik bir batriksinde verktörel olarak 5 lik olaçağı için onuda çarpa bilirim.\n",
    "\n",
    "m1*np.diag(m1)"
   ]
  }
 ],
 "metadata": {
  "kernelspec": {
   "display_name": "Python 3 (ipykernel)",
   "language": "python",
   "name": "python3"
  },
  "language_info": {
   "codemirror_mode": {
    "name": "ipython",
    "version": 3
   },
   "file_extension": ".py",
   "mimetype": "text/x-python",
   "name": "python",
   "nbconvert_exporter": "python",
   "pygments_lexer": "ipython3",
   "version": "3.11.5"
  }
 },
 "nbformat": 4,
 "nbformat_minor": 5
}
