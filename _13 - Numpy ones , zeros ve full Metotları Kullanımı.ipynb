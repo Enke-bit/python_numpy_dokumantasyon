{
 "cells": [
  {
   "cell_type": "code",
   "execution_count": 1,
   "id": "f35e1777",
   "metadata": {},
   "outputs": [],
   "source": [
    "import numpy as np"
   ]
  },
  {
   "cell_type": "code",
   "execution_count": null,
   "id": "8aadb243",
   "metadata": {},
   "outputs": [],
   "source": [
    "# Ben eğer komplike matris oluşturacaksam bu bu komplike yapıları temel olarak oluşturmama yarayacak bazı yapılar vardır."
   ]
  },
  {
   "cell_type": "code",
   "execution_count": 2,
   "id": "7647fe9f",
   "metadata": {},
   "outputs": [
    {
     "data": {
      "text/plain": [
       "array([0., 0., 0., 0., 0.])"
      ]
     },
     "execution_count": 2,
     "metadata": {},
     "output_type": "execute_result"
    }
   ],
   "source": [
    "# İlk olarak \"zeros\" ile başlayalım.\n",
    "# Eğer örneğime bakarsanız benim bir matrisi olan be içerisinde beş değer içeren bir yapı oluşturduğumu gösteriyor.\n",
    "\n",
    "np.zeros(5)"
   ]
  },
  {
   "cell_type": "code",
   "execution_count": 4,
   "id": "d81d56e9",
   "metadata": {},
   "outputs": [
    {
     "data": {
      "text/plain": [
       "array([[0., 0., 0., 0., 0., 0.],\n",
       "       [0., 0., 0., 0., 0., 0.],\n",
       "       [0., 0., 0., 0., 0., 0.],\n",
       "       [0., 0., 0., 0., 0., 0.],\n",
       "       [0., 0., 0., 0., 0., 0.],\n",
       "       [0., 0., 0., 0., 0., 0.],\n",
       "       [0., 0., 0., 0., 0., 0.]])"
      ]
     },
     "execution_count": 4,
     "metadata": {},
     "output_type": "execute_result"
    }
   ],
   "source": [
    "# Eğer ben 7x6yapılı bir matris yapısı oluşturmak istersem.\n",
    "\n",
    "np.zeros((7,6))"
   ]
  },
  {
   "cell_type": "code",
   "execution_count": 5,
   "id": "e04f8ed1",
   "metadata": {},
   "outputs": [
    {
     "data": {
      "text/plain": [
       "array([1., 1., 1., 1., 1., 1., 1.])"
      ]
     },
     "execution_count": 5,
     "metadata": {},
     "output_type": "execute_result"
    }
   ],
   "source": [
    "# Eğer ben bir vektörel bir yapı oluşturmak istersem.\n",
    "\n",
    "np.ones(7)"
   ]
  },
  {
   "cell_type": "code",
   "execution_count": 6,
   "id": "2e54b5d3",
   "metadata": {},
   "outputs": [
    {
     "data": {
      "text/plain": [
       "array([[1., 1., 1., 1., 1., 1., 1., 1.],\n",
       "       [1., 1., 1., 1., 1., 1., 1., 1.],\n",
       "       [1., 1., 1., 1., 1., 1., 1., 1.],\n",
       "       [1., 1., 1., 1., 1., 1., 1., 1.],\n",
       "       [1., 1., 1., 1., 1., 1., 1., 1.]])"
      ]
     },
     "execution_count": 6,
     "metadata": {},
     "output_type": "execute_result"
    }
   ],
   "source": [
    "# Eğer ones parametresini kullanıp buna shape verirsem bir matris yapısı oluştururum.\n",
    "\n",
    "np.ones(shape=(5,8))"
   ]
  },
  {
   "cell_type": "code",
   "execution_count": 7,
   "id": "c547f884",
   "metadata": {},
   "outputs": [
    {
     "data": {
      "text/plain": [
       "array([[12, 12, 12, 12, 12],\n",
       "       [12, 12, 12, 12, 12],\n",
       "       [12, 12, 12, 12, 12],\n",
       "       [12, 12, 12, 12, 12],\n",
       "       [12, 12, 12, 12, 12]])"
      ]
     },
     "execution_count": 7,
     "metadata": {},
     "output_type": "execute_result"
    }
   ],
   "source": [
    "# Peki istediğim sayılardan yada istediğim şekle sahip olan bir matris oluşturmak istersem yapmam gereken ne olmalıdır.\n",
    "\n",
    "np.full((5,5),12)"
   ]
  }
 ],
 "metadata": {
  "kernelspec": {
   "display_name": "Python 3 (ipykernel)",
   "language": "python",
   "name": "python3"
  },
  "language_info": {
   "codemirror_mode": {
    "name": "ipython",
    "version": 3
   },
   "file_extension": ".py",
   "mimetype": "text/x-python",
   "name": "python",
   "nbconvert_exporter": "python",
   "pygments_lexer": "ipython3",
   "version": "3.11.5"
  }
 },
 "nbformat": 4,
 "nbformat_minor": 5
}
