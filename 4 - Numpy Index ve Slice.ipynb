{
 "cells": [
  {
   "cell_type": "code",
   "execution_count": 1,
   "id": "bb33f361",
   "metadata": {},
   "outputs": [],
   "source": [
    "import numpy as np"
   ]
  },
  {
   "cell_type": "code",
   "execution_count": 2,
   "id": "1eb48f57",
   "metadata": {},
   "outputs": [],
   "source": [
    "# Vertörel türde bir array tanımlaması yapalım.\n",
    "\n",
    "vector = np.array([10,20,30,40,50])"
   ]
  },
  {
   "cell_type": "code",
   "execution_count": 3,
   "id": "461c6a69",
   "metadata": {},
   "outputs": [
    {
     "data": {
      "text/plain": [
       "10"
      ]
     },
     "execution_count": 3,
     "metadata": {},
     "output_type": "execute_result"
    }
   ],
   "source": [
    "# içerde tanımlamasını yaptığım array içindeki değerleri index numaralarına göre çağırma işlemini yapıyorum.\n",
    "\n",
    "vector[0]"
   ]
  },
  {
   "cell_type": "code",
   "execution_count": 4,
   "id": "01fcf5c8",
   "metadata": {},
   "outputs": [
    {
     "data": {
      "text/plain": [
       "40"
      ]
     },
     "execution_count": 4,
     "metadata": {},
     "output_type": "execute_result"
    }
   ],
   "source": [
    "vector[3]"
   ]
  },
  {
   "cell_type": "code",
   "execution_count": 5,
   "id": "170d5dd1",
   "metadata": {},
   "outputs": [
    {
     "data": {
      "text/plain": [
       "50"
      ]
     },
     "execution_count": 5,
     "metadata": {},
     "output_type": "execute_result"
    }
   ],
   "source": [
    "# -1 olarak çağırdığım index aslında sonuncu index olarak bilinit bu python özelliğidir.\n",
    "\n",
    "vector[-1]"
   ]
  },
  {
   "cell_type": "code",
   "execution_count": 6,
   "id": "3b4d61aa",
   "metadata": {},
   "outputs": [
    {
     "data": {
      "text/plain": [
       "array([30, 40])"
      ]
     },
     "execution_count": 6,
     "metadata": {},
     "output_type": "execute_result"
    }
   ],
   "source": [
    "# Belli bir aralığı çağıraçak ise yapmam gereken şu olmalıdır.\n",
    "\n",
    "vector[2:4]"
   ]
  },
  {
   "cell_type": "code",
   "execution_count": 8,
   "id": "0ffc69f8",
   "metadata": {},
   "outputs": [
    {
     "data": {
      "text/plain": [
       "array([10, 20, 30])"
      ]
     },
     "execution_count": 8,
     "metadata": {},
     "output_type": "execute_result"
    }
   ],
   "source": [
    "# Eğer ornek olarak ilk 3 elemanı çağırma işlemini yapmam gerekirse yapmam gereken aslında şu olmalıdır.\n",
    "\n",
    "vector[:3]"
   ]
  },
  {
   "cell_type": "code",
   "execution_count": 9,
   "id": "e756f3ee",
   "metadata": {},
   "outputs": [
    {
     "data": {
      "text/plain": [
       "array([10, 30, 50])"
      ]
     },
     "execution_count": 9,
     "metadata": {},
     "output_type": "execute_result"
    }
   ],
   "source": [
    "# Eğer belli bir sıra ile çağırmasını yaparsam yapmam gereken şu olmalıdır. ikişer ikişer gelmesini sağlıyorum.\n",
    "\n",
    "vector[0:6:2]"
   ]
  },
  {
   "cell_type": "code",
   "execution_count": null,
   "id": "a0774f59",
   "metadata": {},
   "outputs": [],
   "source": []
  }
 ],
 "metadata": {
  "kernelspec": {
   "display_name": "Python 3 (ipykernel)",
   "language": "python",
   "name": "python3"
  },
  "language_info": {
   "codemirror_mode": {
    "name": "ipython",
    "version": 3
   },
   "file_extension": ".py",
   "mimetype": "text/x-python",
   "name": "python",
   "nbconvert_exporter": "python",
   "pygments_lexer": "ipython3",
   "version": "3.11.5"
  }
 },
 "nbformat": 4,
 "nbformat_minor": 5
}
