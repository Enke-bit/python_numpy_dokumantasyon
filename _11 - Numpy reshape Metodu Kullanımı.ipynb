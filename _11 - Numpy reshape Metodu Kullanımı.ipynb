{
 "cells": [
  {
   "cell_type": "code",
   "execution_count": 1,
   "id": "a980ee75",
   "metadata": {},
   "outputs": [],
   "source": [
    "import numpy as np"
   ]
  },
  {
   "cell_type": "code",
   "execution_count": 2,
   "id": "8900aae7",
   "metadata": {},
   "outputs": [],
   "source": [
    "m1 = np.array([[1,2,3,4],[5,6,7,8],[9,10,11,12],[13,14,15,16]])"
   ]
  },
  {
   "cell_type": "code",
   "execution_count": 3,
   "id": "adce668f",
   "metadata": {},
   "outputs": [
    {
     "data": {
      "text/plain": [
       "array([[ 1,  2,  3,  4],\n",
       "       [ 5,  6,  7,  8],\n",
       "       [ 9, 10, 11, 12],\n",
       "       [13, 14, 15, 16]])"
      ]
     },
     "execution_count": 3,
     "metadata": {},
     "output_type": "execute_result"
    }
   ],
   "source": [
    "m1"
   ]
  },
  {
   "cell_type": "code",
   "execution_count": 4,
   "id": "e433b48f",
   "metadata": {},
   "outputs": [
    {
     "data": {
      "text/plain": [
       "(4, 4)"
      ]
     },
     "execution_count": 4,
     "metadata": {},
     "output_type": "execute_result"
    }
   ],
   "source": [
    "# Yıkarda tanımladığım matriks'in şekline bakalım.\n",
    "\n",
    "m1.shape"
   ]
  },
  {
   "cell_type": "code",
   "execution_count": 5,
   "id": "57779c8c",
   "metadata": {},
   "outputs": [
    {
     "data": {
      "text/plain": [
       "16"
      ]
     },
     "execution_count": 5,
     "metadata": {},
     "output_type": "execute_result"
    }
   ],
   "source": [
    "# Eleman sayısınada bakalım.\n",
    "\n",
    "m1.size"
   ]
  },
  {
   "cell_type": "code",
   "execution_count": 6,
   "id": "aa7a41eb",
   "metadata": {},
   "outputs": [
    {
     "data": {
      "text/plain": [
       "array([[ 1,  2,  3,  4,  5,  6,  7,  8],\n",
       "       [ 9, 10, 11, 12, 13, 14, 15, 16]])"
      ]
     },
     "execution_count": 6,
     "metadata": {},
     "output_type": "execute_result"
    }
   ],
   "source": [
    "# Şimdi yeniden boyutlandıraçağım ve bu boyutlandırmada hiçbir eleman boşta kalmayaçak şekilde yeniden boyutlandırdım.\n",
    "\n",
    "m1.reshape(2,8)"
   ]
  },
  {
   "cell_type": "code",
   "execution_count": 8,
   "id": "fa3bc6fd",
   "metadata": {},
   "outputs": [],
   "source": [
    "# Hatta bir verktörede çevirebilirim.\n",
    "\n",
    "m1x = m1.reshape(16)"
   ]
  },
  {
   "cell_type": "code",
   "execution_count": 9,
   "id": "cb1fc33d",
   "metadata": {},
   "outputs": [
    {
     "data": {
      "text/plain": [
       "array([ 1,  2,  3,  4,  5,  6,  7,  8,  9, 10, 11, 12, 13, 14, 15, 16])"
      ]
     },
     "execution_count": 9,
     "metadata": {},
     "output_type": "execute_result"
    }
   ],
   "source": [
    "m1x"
   ]
  },
  {
   "cell_type": "code",
   "execution_count": 10,
   "id": "d67518a6",
   "metadata": {},
   "outputs": [
    {
     "data": {
      "text/plain": [
       "(16,)"
      ]
     },
     "execution_count": 10,
     "metadata": {},
     "output_type": "execute_result"
    }
   ],
   "source": [
    "m1x.shape"
   ]
  },
  {
   "cell_type": "code",
   "execution_count": 12,
   "id": "dc8f0f3d",
   "metadata": {},
   "outputs": [
    {
     "data": {
      "text/plain": [
       "array([[0, 0, 0, 1, 0, 0, 1, 1, 0, 1, 1, 0, 1, 1, 0, 0],\n",
       "       [1, 1, 0, 0, 1, 1, 0, 1, 1, 1, 1, 0, 1, 0, 0, 0],\n",
       "       [1, 0, 1, 1, 1, 1, 0, 1, 1, 0, 0, 0, 0, 1, 0, 1],\n",
       "       [0, 0, 1, 0, 0, 0, 0, 0, 0, 1, 1, 1, 0, 0, 0, 0]])"
      ]
     },
     "execution_count": 12,
     "metadata": {},
     "output_type": "execute_result"
    }
   ],
   "source": [
    "# 8x8 lik 0 ve 1 lerden oyuşan bir matriks yaptıp.\n",
    "\n",
    "np.random.randint(0,2,(8,8)).reshape(4,16)"
   ]
  },
  {
   "cell_type": "code",
   "execution_count": 18,
   "id": "4496b1c3",
   "metadata": {},
   "outputs": [
    {
     "data": {
      "text/plain": [
       "array([[ 0.        ,  0.68965517,  1.37931034,  2.06896552,  2.75862069],\n",
       "       [ 3.44827586,  4.13793103,  4.82758621,  5.51724138,  6.20689655],\n",
       "       [ 6.89655172,  7.5862069 ,  8.27586207,  8.96551724,  9.65517241],\n",
       "       [10.34482759, 11.03448276, 11.72413793, 12.4137931 , 13.10344828],\n",
       "       [13.79310345, 14.48275862, 15.17241379, 15.86206897, 16.55172414],\n",
       "       [17.24137931, 17.93103448, 18.62068966, 19.31034483, 20.        ]])"
      ]
     },
     "execution_count": 18,
     "metadata": {},
     "output_type": "execute_result"
    }
   ],
   "source": [
    "# Bir veri setini 30'a bölüp ordan yeniden boyutlandırma yapalım.\n",
    "\n",
    "np.linspace(0,20,30).reshape(6,5)"
   ]
  }
 ],
 "metadata": {
  "kernelspec": {
   "display_name": "Python 3 (ipykernel)",
   "language": "python",
   "name": "python3"
  },
  "language_info": {
   "codemirror_mode": {
    "name": "ipython",
    "version": 3
   },
   "file_extension": ".py",
   "mimetype": "text/x-python",
   "name": "python",
   "nbconvert_exporter": "python",
   "pygments_lexer": "ipython3",
   "version": "3.11.5"
  }
 },
 "nbformat": 4,
 "nbformat_minor": 5
}
