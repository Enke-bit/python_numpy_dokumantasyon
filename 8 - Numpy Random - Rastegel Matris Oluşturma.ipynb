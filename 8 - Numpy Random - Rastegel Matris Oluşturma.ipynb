{
 "cells": [
  {
   "cell_type": "code",
   "execution_count": 1,
   "id": "e2165986",
   "metadata": {},
   "outputs": [],
   "source": [
    "import numpy as np"
   ]
  },
  {
   "cell_type": "code",
   "execution_count": 3,
   "id": "9d92d249",
   "metadata": {},
   "outputs": [],
   "source": [
    "# python random için tanımlanan methodlarını ele alalım.\n",
    "\n",
    "dir (np.random)"
   ]
  },
  {
   "cell_type": "code",
   "execution_count": 5,
   "id": "ad1f5a9f",
   "metadata": {},
   "outputs": [
    {
     "data": {
      "text/plain": [
       "array([[0, 5, 8, 5],\n",
       "       [0, 3, 7, 7],\n",
       "       [2, 2, 0, 8],\n",
       "       [1, 6, 8, 3]])"
      ]
     },
     "execution_count": 5,
     "metadata": {},
     "output_type": "execute_result"
    }
   ],
   "source": [
    "# Şimdi belirli bir aralıkdan sayı aralığında bir veri getirmesini sağlayaçağım.\n",
    "# Ve buna 4,4 bir shape yani matriks tanımlamasını yapıyorum.\n",
    "\n",
    "np.random.randint(0,10,(4,4))"
   ]
  },
  {
   "cell_type": "code",
   "execution_count": 6,
   "id": "b063b8ee",
   "metadata": {},
   "outputs": [
    {
     "data": {
      "text/plain": [
       "array([[0.4, 0.5, 0.2, 0.8],\n",
       "       [0.2, 0. , 0.2, 0. ],\n",
       "       [0.1, 0.9, 0.6, 0.6],\n",
       "       [0.5, 0.6, 0.9, 0.3]])"
      ]
     },
     "execution_count": 6,
     "metadata": {},
     "output_type": "execute_result"
    }
   ],
   "source": [
    "# Şimdi bu aralığı 0 ile 1 aralığında yapaçağım.\n",
    "\n",
    "np.random.randint(0,10,(4,4))/10"
   ]
  },
  {
   "cell_type": "code",
   "execution_count": null,
   "id": "ba7c6477",
   "metadata": {},
   "outputs": [],
   "source": [
    "# Burdaki kullanma amaçı ise şifreleme kriptolama amaçı taşımaktadır."
   ]
  }
 ],
 "metadata": {
  "kernelspec": {
   "display_name": "Python 3 (ipykernel)",
   "language": "python",
   "name": "python3"
  },
  "language_info": {
   "codemirror_mode": {
    "name": "ipython",
    "version": 3
   },
   "file_extension": ".py",
   "mimetype": "text/x-python",
   "name": "python",
   "nbconvert_exporter": "python",
   "pygments_lexer": "ipython3",
   "version": "3.11.5"
  }
 },
 "nbformat": 4,
 "nbformat_minor": 5
}
