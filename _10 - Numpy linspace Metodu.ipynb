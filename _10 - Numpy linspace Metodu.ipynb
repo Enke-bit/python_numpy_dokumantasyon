{
 "cells": [
  {
   "cell_type": "code",
   "execution_count": 1,
   "id": "c4fe097b",
   "metadata": {},
   "outputs": [],
   "source": [
    "import numpy as np"
   ]
  },
  {
   "cell_type": "code",
   "execution_count": 2,
   "id": "b935309e",
   "metadata": {},
   "outputs": [
    {
     "data": {
      "text/plain": [
       "array([0, 1, 2, 3, 4, 5, 6, 7, 8, 9])"
      ]
     },
     "execution_count": 2,
     "metadata": {},
     "output_type": "execute_result"
    }
   ],
   "source": [
    "np.arange(10)"
   ]
  },
  {
   "cell_type": "code",
   "execution_count": 3,
   "id": "c1131711",
   "metadata": {},
   "outputs": [
    {
     "data": {
      "text/plain": [
       "array([3, 4, 5, 6, 7, 8, 9])"
      ]
     },
     "execution_count": 3,
     "metadata": {},
     "output_type": "execute_result"
    }
   ],
   "source": [
    "np.arange(3,10)"
   ]
  },
  {
   "cell_type": "code",
   "execution_count": 4,
   "id": "511edf91",
   "metadata": {},
   "outputs": [
    {
     "data": {
      "text/plain": [
       "array([3, 5, 7, 9])"
      ]
     },
     "execution_count": 4,
     "metadata": {},
     "output_type": "execute_result"
    }
   ],
   "source": [
    "np.arange(3,10,2)"
   ]
  },
  {
   "cell_type": "code",
   "execution_count": 5,
   "id": "b8e99b7c",
   "metadata": {},
   "outputs": [
    {
     "data": {
      "text/plain": [
       "array([ 0.        ,  1.81818182,  3.63636364,  5.45454545,  7.27272727,\n",
       "        9.09090909, 10.90909091, 12.72727273, 14.54545455, 16.36363636,\n",
       "       18.18181818, 20.        ])"
      ]
     },
     "execution_count": 5,
     "metadata": {},
     "output_type": "execute_result"
    }
   ],
   "source": [
    "# şimdi burada ise ben bu aralıkları kaça böleceğimi tanımlıyorum. Ve bunu \"linspace\" ile yapıyorum.\n",
    "# 0 ile 20 arasını 12 parçaya dilimliyorum.\n",
    "# Bi önemli nokta bu methotda son eleman dahildir.\n",
    "\n",
    "np.linspace(0,20,12)"
   ]
  },
  {
   "cell_type": "code",
   "execution_count": 7,
   "id": "2b3772ee",
   "metadata": {},
   "outputs": [
    {
     "data": {
      "text/plain": [
       "array([ 3.  ,  5.25,  7.5 ,  9.75, 12.  ])"
      ]
     },
     "execution_count": 7,
     "metadata": {},
     "output_type": "execute_result"
    }
   ],
   "source": [
    "# İki aralık arasındaki değeri bulmak istersem.\n",
    "\n",
    "bol = np.linspace(3,12,5)\n",
    "bol"
   ]
  },
  {
   "cell_type": "code",
   "execution_count": 8,
   "id": "b1aeb880",
   "metadata": {},
   "outputs": [
    {
     "data": {
      "text/plain": [
       "2.25"
      ]
     },
     "execution_count": 8,
     "metadata": {},
     "output_type": "execute_result"
    }
   ],
   "source": [
    "# 2. index ile 1. index arasındaki değeri çıkarttımn.\n",
    "\n",
    "bol[1]-bol[0]"
   ]
  },
  {
   "cell_type": "code",
   "execution_count": 11,
   "id": "05932ad4",
   "metadata": {},
   "outputs": [
    {
     "name": "stdout",
     "output_type": "stream",
     "text": [
      "2.25\n",
      "2.25\n",
      "2.25\n",
      "2.25\n"
     ]
    }
   ],
   "source": [
    "# buralıklar eşittir. Hadi bakalım.\n",
    "\n",
    "birinci_aralık = bol[1]-bol[0]\n",
    "ikinci_aralık = bol[2]-bol[1]\n",
    "ucuncu_aralık = bol[3]-bol[2]\n",
    "dortuncu_aralık = bol[4]-bol[3]\n",
    "\n",
    "print(birinci_aralık)\n",
    "print(ikinci_aralık)\n",
    "print(ucuncu_aralık)\n",
    "print(dortuncu_aralık)\n"
   ]
  }
 ],
 "metadata": {
  "kernelspec": {
   "display_name": "Python 3 (ipykernel)",
   "language": "python",
   "name": "python3"
  },
  "language_info": {
   "codemirror_mode": {
    "name": "ipython",
    "version": 3
   },
   "file_extension": ".py",
   "mimetype": "text/x-python",
   "name": "python",
   "nbconvert_exporter": "python",
   "pygments_lexer": "ipython3",
   "version": "3.11.5"
  }
 },
 "nbformat": 4,
 "nbformat_minor": 5
}
