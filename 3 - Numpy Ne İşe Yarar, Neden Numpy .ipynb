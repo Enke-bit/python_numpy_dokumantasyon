{
 "cells": [
  {
   "cell_type": "code",
   "execution_count": null,
   "id": "06a161ec",
   "metadata": {},
   "outputs": [],
   "source": [
    "\"\"\"\n",
    "Numpy Ne İşe Yarar?\n",
    "NumPy, Python'da bilimsel hesaplamalar ve veri analizi için kullanılan güçlü bir kütüphanedir. NumPy'nin temel özellikleri şunlardır:\n",
    "\n",
    "Hızlı ve Etkili Dizi İşlemleri: NumPy, Python listelerine göre daha hızlı ve verimli bir dizi yapısı olan ndarray (NumPy Array) sağlar. Büyük veri setleri üzerinde hızlı ve etkili işlemler gerçekleştirmek için idealdir.\n",
    "\n",
    "Matematiksel İşlemler ve Fonksiyonlar: NumPy, lineer cebir, istatistiksel hesaplamalar, matematiksel fonksiyonlar ve trigonometrik işlemler gibi geniş bir matematiksel işlevselliği destekler.\n",
    "\n",
    "Çok Boyutlu Diziler ve Matris İşlemleri: NumPy, çok boyutlu diziler ve matrisler üzerinde hızlı işlemler gerçekleştirmek için optimize edilmiştir. Bu özellik, özellikle veri analizi ve bilimsel hesaplamalarda önemlidir.\n",
    "\n",
    "Yayınlanabilir İşlemler (Broadcasting): NumPy, farklı şekillerdeki diziler üzerinde element-wise işlemleri kolaylaştıran yayınlanabilir işlemleri destekler. Bu, kodun daha okunabilir ve kısa olmasını sağlar.\n",
    "\n",
    "Rastgele Sayı Üretimi ve Simülasyon: NumPy, rastgele sayı üretme işlemlerini içeren bir alt modül olan numpy.random ile simülasyonlar ve istatistiksel çalışmalar için kullanılır.\n",
    "\n",
    "Neden Numpy?\n",
    "NumPy'nin tercih edilmesinin bazı nedenleri şunlardır:\n",
    "\n",
    "Performans: NumPy, C diline yakın hızlarda çalışan altında C dilinde yazılmış kütüphaneleri kullanarak yüksek performanslı hesaplamalar sağlar.\n",
    "\n",
    "Hafıza Yönetimi: NumPy, bellek yönetimini optimize ederek, büyük veri setleriyle daha etkili bir şekilde çalışmayı mümkün kılar.\n",
    "\n",
    "Geniş Kullanıcı Topluluğu: NumPy, geniş bir kullanıcı topluluğuna sahiptir ve bu topluluk, dokümantasyonlar, örnekler ve sorulara hızlı cevaplar sunarak kullanıcıların gelişimini destekler.\n",
    "\n",
    "Diğer Kütüphanelerle Entegrasyon: NumPy, birçok diğer bilimsel hesaplama kütüphanesi ve veri analizi aracıyla entegre çalışabilir, bu da farklı disiplinlerden gelen veri bilimcileri ve araştırmacılar için önemlidir.\n",
    "\"\"\""
   ]
  },
  {
   "cell_type": "code",
   "execution_count": 1,
   "id": "a5177092",
   "metadata": {},
   "outputs": [],
   "source": [
    "import numpy as np\n",
    "from PIL import Image"
   ]
  },
  {
   "cell_type": "code",
   "execution_count": 2,
   "id": "660ee1d6",
   "metadata": {},
   "outputs": [
    {
     "data": {
      "image/png": "[encoded data removed]",
      "text/plain": [
       "<PIL.PngImagePlugin.PngImageFile image mode=P size=624x333>"
      ]
     },
     "execution_count": 2,
     "metadata": {},
     "output_type": "execute_result"
    }
   ],
   "source": [
    "# Şimdi görselle üzerinden anlatmaya çalışalım.\n",
    "\n",
    "Image.open(\"./Scalar-vs-SIMD-operation-for-multiple-additions.png\")"
   ]
  },
  {
   "cell_type": "code",
   "execution_count": null,
   "id": "7df74976",
   "metadata": {},
   "outputs": [],
   "source": [
    "# Yukarıdaki görselli ele almadan şunu anlatmak istiyorum. Eğer yazılım ve Python'la ilgili araştırma yaptıysanız Python'nun diğer \n",
    "#   yazılım billeri gibi hızlı çalışmadığını daha yavaş çalıştığını duymuşsunuzdur bunun sebebini anlatmıyacağım daha uzun ve derin bir konu.\n",
    "#   ama şunu söylemek istiyorum evet Python java veya c dillerine göre daha yavaştır temel sebebi ise daha kullanıcı kolaylıklı\n",
    "#   olmasıdır. Bu onu yıllarca java veya c dillerinin gerisinde bırakmıştır. Ama durum numpy kütüpanesi ile değişti evet Python\n",
    "#   yapısı gereği yavaş ama bunu doğru yönledirilirbilrise bu bir avantaja bönüşebilir.\n",
    "# Şimdi yukardakı işlemi acıklayalım. Eğer bu işelemleri satır satır yaparsanız uzun sürer ama sütün şeklinde toplarsanız daha \n",
    "#   hızlı olacaktır. Gelin bu durumu size anlatayım."
   ]
  },
  {
   "cell_type": "code",
   "execution_count": 3,
   "id": "454a208b",
   "metadata": {},
   "outputs": [],
   "source": [
    "# Bir kod alanı yazıcam bu iki farklı yöntemle çalışma süresini hesaplayacağım ve sonuça beraber bakalım.\n",
    "\n",
    "import time"
   ]
  },
  {
   "cell_type": "code",
   "execution_count": 5,
   "id": "9ba872b0",
   "metadata": {},
   "outputs": [
    {
     "name": "stdout",
     "output_type": "stream",
     "text": [
      "1.159069299697876\n"
     ]
    }
   ],
   "source": [
    "# Şimdi burdaki işlemi aslında 1 milyona kadar 100'ün kuvvetini bul ve bunu liste modülüne ata işlemini yapan bir kod yazdım.\n",
    "# Bu işlem scalar yöntemle yaptık.\n",
    "\n",
    "zaman1 = time.time()\n",
    "\n",
    "\n",
    "liste = []\n",
    "for a in range(1_000_000):\n",
    "    kuvvet = a**100\n",
    "    liste.append(kuvvet)\n",
    "\n",
    "zaman2 = time.time()\n",
    "\n",
    "print(zaman2 - zaman1)"
   ]
  },
  {
   "cell_type": "code",
   "execution_count": 6,
   "id": "7d3bb660",
   "metadata": {},
   "outputs": [
    {
     "name": "stdout",
     "output_type": "stream",
     "text": [
      "0.006992816925048828\n"
     ]
    }
   ],
   "source": [
    "# Burda işlemi ise vektörel olark yaptığımı düşünelim.\n",
    "\n",
    "zaman3 = time.time()\n",
    "\n",
    "liste2 = np.arange(1_000_000)**100\n",
    "\n",
    "zaman4 = time.time()\n",
    "\n",
    "print(zaman4-zaman3)"
   ]
  },
  {
   "cell_type": "code",
   "execution_count": null,
   "id": "d44fd97c",
   "metadata": {},
   "outputs": [],
   "source": [
    "\"\"\"\n",
    "Genel sonuç olarak ben yapaçağım işlemi eğer daha akıllı moddeler ve numpy kütüpanesini kullanırsam 165 kat daha hızlı yapıyorum.\n",
    "Yıllarca Python javadan 5-6 kat yavaş diye tercih edilmedi ve karmaşık c dilleri ve java kullanıldı ama ben burd zaten numpy kullanırsam 165 kat hızlanıyorum.\n",
    "yani aslında alanımı, memory ve zamanımı daha iyi yönlndirirsem Python diğer dillerden daha başarılı olduğunu ortaya koyuyor. \n",
    "\"\"\""
   ]
  },
  {
   "cell_type": "code",
   "execution_count": 7,
   "id": "90561dbb",
   "metadata": {},
   "outputs": [
    {
     "data": {
      "text/plain": [
       "165.75141493351518"
      ]
     },
     "execution_count": 7,
     "metadata": {},
     "output_type": "execute_result"
    }
   ],
   "source": [
    "# Kaç kat hızı olduğuna bakıyorum.\n",
    "\n",
    "1.159069299697876/0.006992816925048828"
   ]
  }
 ],
 "metadata": {
  "kernelspec": {
   "display_name": "Python 3 (ipykernel)",
   "language": "python",
   "name": "python3"
  },
  "language_info": {
   "codemirror_mode": {
    "name": "ipython",
    "version": 3
   },
   "file_extension": ".py",
   "mimetype": "text/x-python",
   "name": "python",
   "nbconvert_exporter": "python",
   "pygments_lexer": "ipython3",
   "version": "3.11.5"
  }
 },
 "nbformat": 4,
 "nbformat_minor": 5
}
