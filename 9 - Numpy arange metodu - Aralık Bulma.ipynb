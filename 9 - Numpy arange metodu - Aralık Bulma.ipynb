{
 "cells": [
  {
   "cell_type": "code",
   "execution_count": 1,
   "id": "76adbd63",
   "metadata": {},
   "outputs": [],
   "source": [
    "import numpy as np"
   ]
  },
  {
   "cell_type": "code",
   "execution_count": 2,
   "id": "c8530ed0",
   "metadata": {},
   "outputs": [
    {
     "data": {
      "text/plain": [
       "range(0, 1000000)"
      ]
     },
     "execution_count": 2,
     "metadata": {},
     "output_type": "execute_result"
    }
   ],
   "source": [
    "# Ben eğer bir liste tanımlaması yapaçak olsam bunu tek tek yaparım eğer bir milyona kadar veri listenecek ise burda \"arange\" komutu devreye girer.\n",
    "\n",
    "liste =[1,2,3,4,5,6,7]\n",
    "range(1_000_000)"
   ]
  },
  {
   "cell_type": "code",
   "execution_count": 3,
   "id": "1bd69e7f",
   "metadata": {},
   "outputs": [],
   "source": [
    "# Şimdi arange methodu üzerinden bunu yapmaya çalışalım.\n",
    "\n",
    "milyon = np.arange(1_000_000)"
   ]
  },
  {
   "cell_type": "code",
   "execution_count": 4,
   "id": "6d04f6c0",
   "metadata": {},
   "outputs": [
    {
     "data": {
      "text/plain": [
       "array([     0,      1,      2, ..., 999997, 999998, 999999])"
      ]
     },
     "execution_count": 4,
     "metadata": {},
     "output_type": "execute_result"
    }
   ],
   "source": [
    "milyon"
   ]
  },
  {
   "cell_type": "code",
   "execution_count": 5,
   "id": "02b83058",
   "metadata": {},
   "outputs": [
    {
     "data": {
      "text/plain": [
       "array([0, 1, 2, 3, 4, 5, 6, 7, 8, 9])"
      ]
     },
     "execution_count": 5,
     "metadata": {},
     "output_type": "execute_result"
    }
   ],
   "source": [
    "# Şimdi ben burda 10'a kadar olan ama 10 dahil olmayan şeklinde olark listelenmesini yapıyorum.\n",
    "\n",
    "np.arange(10)"
   ]
  },
  {
   "cell_type": "code",
   "execution_count": 7,
   "id": "b86b14a8",
   "metadata": {},
   "outputs": [
    {
     "data": {
      "text/plain": [
       "array([5, 6, 7, 8, 9])"
      ]
     },
     "execution_count": 7,
     "metadata": {},
     "output_type": "execute_result"
    }
   ],
   "source": [
    "# Bu işlemi 5 ile 10 arasında yapmak istersem.\n",
    "\n",
    "np.arange(5,10)"
   ]
  },
  {
   "cell_type": "code",
   "execution_count": 11,
   "id": "0a2f29c7",
   "metadata": {},
   "outputs": [
    {
     "name": "stdout",
     "output_type": "stream",
     "text": [
      "Tek olarak gelmesini istersem : [ 1  3  5  7  9 11 13 15 17 19]\n",
      "Çift olarak gelmesini istersem : [ 0  2  4  6  8 10 12 14 16 18]\n"
     ]
    }
   ],
   "source": [
    "# Şimdi ise 1 ile 20 arasında 20 dahil değil ikişer ikişer getirmesini sağlıyorum.,\n",
    "\n",
    "tek = np.arange(1,20,2)\n",
    "cift = np.arange(0,20,2)\n",
    "print(\"Tek olarak gelmesini istersem :\", tek)\n",
    "print(\"Çift olarak gelmesini istersem :\", cift)"
   ]
  }
 ],
 "metadata": {
  "kernelspec": {
   "display_name": "Python 3 (ipykernel)",
   "language": "python",
   "name": "python3"
  },
  "language_info": {
   "codemirror_mode": {
    "name": "ipython",
    "version": 3
   },
   "file_extension": ".py",
   "mimetype": "text/x-python",
   "name": "python",
   "nbconvert_exporter": "python",
   "pygments_lexer": "ipython3",
   "version": "3.11.5"
  }
 },
 "nbformat": 4,
 "nbformat_minor": 5
}
