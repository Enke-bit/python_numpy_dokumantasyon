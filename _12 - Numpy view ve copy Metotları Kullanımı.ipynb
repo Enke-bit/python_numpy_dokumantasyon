{
 "cells": [
  {
   "cell_type": "code",
   "execution_count": 1,
   "id": "c3278906",
   "metadata": {},
   "outputs": [],
   "source": [
    "import numpy as np"
   ]
  },
  {
   "cell_type": "code",
   "execution_count": 2,
   "id": "16d43664",
   "metadata": {},
   "outputs": [],
   "source": [
    "# Random değerlerle oluşan 4x4 boyutunda bir matris oluşturuyorum.\n",
    "\n",
    "matris = np.random.randint(0,5,(4,4))"
   ]
  },
  {
   "cell_type": "code",
   "execution_count": 3,
   "id": "e433871d",
   "metadata": {
    "scrolled": true
   },
   "outputs": [
    {
     "data": {
      "text/plain": [
       "array([[0, 1, 0, 3],\n",
       "       [4, 2, 1, 1],\n",
       "       [4, 4, 0, 1],\n",
       "       [2, 1, 2, 0]])"
      ]
     },
     "execution_count": 3,
     "metadata": {},
     "output_type": "execute_result"
    }
   ],
   "source": [
    "matris"
   ]
  },
  {
   "cell_type": "code",
   "execution_count": 4,
   "id": "9efbdda7",
   "metadata": {},
   "outputs": [],
   "source": [
    "# Şimdi view komutunu kullanarak burda var olan matrisi farklı bir değişkene atamasını yapıyorum.\n",
    "\n",
    "matris2 = matris.view()"
   ]
  },
  {
   "cell_type": "code",
   "execution_count": 5,
   "id": "33b995f4",
   "metadata": {},
   "outputs": [
    {
     "data": {
      "text/plain": [
       "array([[0, 1, 0, 3],\n",
       "       [4, 2, 1, 1],\n",
       "       [4, 4, 0, 1],\n",
       "       [2, 1, 2, 0]])"
      ]
     },
     "execution_count": 5,
     "metadata": {},
     "output_type": "execute_result"
    }
   ],
   "source": [
    "matris2"
   ]
  },
  {
   "cell_type": "code",
   "execution_count": 6,
   "id": "31e3dee4",
   "metadata": {},
   "outputs": [
    {
     "data": {
      "text/plain": [
       "array([0, 1, 0, 3])"
      ]
     },
     "execution_count": 6,
     "metadata": {},
     "output_type": "execute_result"
    }
   ],
   "source": [
    "# Yukarda yaptığım işlem sonrasında şimdi bu teni değişkene bakalım.\n",
    "\n",
    "matris2[0]"
   ]
  },
  {
   "cell_type": "code",
   "execution_count": 7,
   "id": "63cf5677",
   "metadata": {},
   "outputs": [],
   "source": [
    "# Ben yukardaki elemanda 0. elemanı çağırıdm şimdi buna yeni atama yapmak istersen onu nasıl yapaçağım bakalım.\n",
    "\n",
    "matris2[0] = [9,9,9,9]"
   ]
  },
  {
   "cell_type": "code",
   "execution_count": 8,
   "id": "0e03eb64",
   "metadata": {},
   "outputs": [
    {
     "data": {
      "text/plain": [
       "array([[9, 9, 9, 9],\n",
       "       [4, 2, 1, 1],\n",
       "       [4, 4, 0, 1],\n",
       "       [2, 1, 2, 0]])"
      ]
     },
     "execution_count": 8,
     "metadata": {},
     "output_type": "execute_result"
    }
   ],
   "source": [
    "# Yukardaki yaptığım değişikliğin etkisini burada görebilirim.\n",
    "\n",
    "matris2"
   ]
  },
  {
   "cell_type": "code",
   "execution_count": 9,
   "id": "c5f5c1f6",
   "metadata": {},
   "outputs": [
    {
     "data": {
      "text/plain": [
       "array([[9, 9, 9, 9],\n",
       "       [4, 2, 1, 1],\n",
       "       [4, 4, 0, 1],\n",
       "       [2, 1, 2, 0]])"
      ]
     },
     "execution_count": 9,
     "metadata": {},
     "output_type": "execute_result"
    }
   ],
   "source": [
    "# Bu etki'yi ben matris değişkenimde'de görebilirim.\n",
    "# Yani burada bu etki aslında iki değişkenede etki eder.\n",
    "\n",
    "matris"
   ]
  },
  {
   "cell_type": "code",
   "execution_count": 10,
   "id": "c3d5287b",
   "metadata": {},
   "outputs": [],
   "source": [
    "# Şimdi random method'u ile yeni bir matris oluşturalım.\n",
    "\n",
    "matris3 = np.random.randint(0,5,(4,4))"
   ]
  },
  {
   "cell_type": "code",
   "execution_count": 11,
   "id": "b726981b",
   "metadata": {},
   "outputs": [
    {
     "data": {
      "text/plain": [
       "array([[3, 1, 2, 0],\n",
       "       [4, 4, 0, 2],\n",
       "       [3, 1, 1, 1],\n",
       "       [4, 4, 3, 1]])"
      ]
     },
     "execution_count": 11,
     "metadata": {},
     "output_type": "execute_result"
    }
   ],
   "source": [
    "matris3"
   ]
  },
  {
   "cell_type": "code",
   "execution_count": 12,
   "id": "5b8ae1a5",
   "metadata": {},
   "outputs": [],
   "source": [
    "# Bu seher copy methodunu kullanıyorum.\n",
    "\n",
    "matris4 = matris3.copy()"
   ]
  },
  {
   "cell_type": "code",
   "execution_count": 13,
   "id": "8bbcc4ea",
   "metadata": {},
   "outputs": [],
   "source": [
    "matris4[0] = [3,3,3,3]"
   ]
  },
  {
   "cell_type": "code",
   "execution_count": 14,
   "id": "8ce35e52",
   "metadata": {},
   "outputs": [
    {
     "data": {
      "text/plain": [
       "array([[3, 3, 3, 3],\n",
       "       [4, 4, 0, 2],\n",
       "       [3, 1, 1, 1],\n",
       "       [4, 4, 3, 1]])"
      ]
     },
     "execution_count": 14,
     "metadata": {},
     "output_type": "execute_result"
    }
   ],
   "source": [
    "matris4"
   ]
  },
  {
   "cell_type": "code",
   "execution_count": 15,
   "id": "ba6d1ef8",
   "metadata": {},
   "outputs": [
    {
     "data": {
      "text/plain": [
       "array([[3, 1, 2, 0],\n",
       "       [4, 4, 0, 2],\n",
       "       [3, 1, 1, 1],\n",
       "       [4, 4, 3, 1]])"
      ]
     },
     "execution_count": 15,
     "metadata": {},
     "output_type": "execute_result"
    }
   ],
   "source": [
    "# Bakın önemli nokta ben view methodunu kullandığımda burda matris aldığım değişkenede etki ediyor.\n",
    "# Ama copy methodunu kullanırsam burda o değişkeni aldığım değişkene etki etmiyor.\n",
    "\n",
    "matris3"
   ]
  }
 ],
 "metadata": {
  "kernelspec": {
   "display_name": "Python 3 (ipykernel)",
   "language": "python",
   "name": "python3"
  },
  "language_info": {
   "codemirror_mode": {
    "name": "ipython",
    "version": 3
   },
   "file_extension": ".py",
   "mimetype": "text/x-python",
   "name": "python",
   "nbconvert_exporter": "python",
   "pygments_lexer": "ipython3",
   "version": "3.11.5"
  }
 },
 "nbformat": 4,
 "nbformat_minor": 5
}
